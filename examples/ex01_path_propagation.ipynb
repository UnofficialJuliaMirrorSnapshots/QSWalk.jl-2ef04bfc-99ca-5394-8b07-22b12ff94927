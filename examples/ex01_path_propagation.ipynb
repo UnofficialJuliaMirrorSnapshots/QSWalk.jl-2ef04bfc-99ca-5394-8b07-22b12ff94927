{
 "cells": [
  {
   "cell_type": "markdown",
   "metadata": {},
   "source": [
    "# Propagation on the path graph"
   ]
  },
  {
   "cell_type": "markdown",
   "metadata": {},
   "source": [
    "## Loading modules"
   ]
  },
  {
   "cell_type": "code",
   "execution_count": null,
   "metadata": {},
   "outputs": [],
   "source": [
    "using QSWalk\n",
    "using PyPlot # for plot\n",
    "using LightGraphs # for PathGraph\n",
    "using LinearAlgebra # for diag method"
   ]
  },
  {
   "cell_type": "markdown",
   "metadata": {},
   "source": [
    "## Evolution on path graph for fixed time, global vs local interaction"
   ]
  },
  {
   "cell_type": "markdown",
   "metadata": {
    "collapsed": true
   },
   "source": [
    "Basic parameters. Note that *dim* should be an odd number. Otherwise the middle point *midpoint* is not unique. Matrix\n",
    "*adjacency* can be alternatively generated as *adjacency = spdiagm((ones(dim-1), ones(dim-1)), (-1, 1))*."
   ]
  },
  {
   "cell_type": "code",
   "execution_count": null,
   "metadata": {},
   "outputs": [],
   "source": [
    "dim = 151 # odd for unique middle point\n",
    "midpoint = ceil(Int, dim/2)\n",
    "w = 0.5\n",
    "timepoint = 50.\n",
    "adjacency = adjacency_matrix(PathGraph(dim));"
   ]
  },
  {
   "cell_type": "markdown",
   "metadata": {
    "collapsed": true
   },
   "source": [
    "Quantum stochastic walk: global interaction case. Note that *evolve_generator* requires a list of Lindblad operators, hence we need extra brackets around the second argument."
   ]
  },
  {
   "cell_type": "code",
   "execution_count": null,
   "metadata": {},
   "outputs": [],
   "source": [
    "op_global = evolve_generator(adjacency, [adjacency], w)\n",
    "rho_global = evolve(op_global, proj(midpoint, dim), timepoint);"
   ]
  },
  {
   "cell_type": "markdown",
   "metadata": {
    "collapsed": true
   },
   "source": [
    "Quantum stochastic walk: local interaction case. Note that here *lind_local* is already a list of Lindbladian operators, hence we do not need extra brackets, contrary to the global interaction example."
   ]
  },
  {
   "cell_type": "code",
   "execution_count": null,
   "metadata": {},
   "outputs": [],
   "source": [
    "lind_local = local_lind(adjacency)\n",
    "op_local = evolve_generator(adjacency, lind_local, w)\n",
    "rho_local = evolve(op_local, proj(midpoint, dim), timepoint);"
   ]
  },
  {
   "cell_type": "markdown",
   "metadata": {
    "collapsed": true
   },
   "source": [
    "To plot the result of the cannonical measurement, we take a diagonal of the states. Note that both *rhoglobal* and *rholocal* are complex matrices, hence we need to take the real part only. Argument *positions* is generated assuming that *midpoint* (the initial position) is at 0. Note that we have very heavy tails in the global interaction case, which confirms fast propagation in this model."
   ]
  },
  {
   "cell_type": "code",
   "execution_count": null,
   "metadata": {},
   "outputs": [],
   "source": [
    "positions = (collect(1:dim) .- midpoint)\n",
    "plot(positions, real.(diag(rho_local)), \"k\")\n",
    "plot(positions, real.(diag(rho_global)), \"b\")\n",
    "xlabel(\"position\")\n",
    "ylabel(\"probability\")\n",
    "show()"
   ]
  },
  {
   "cell_type": "markdown",
   "metadata": {},
   "source": [
    "## Evolution on path graph for fixed time, propagation analysis"
   ]
  },
  {
   "cell_type": "markdown",
   "metadata": {
    "collapsed": true
   },
   "source": [
    "Basic parameters. Note that *dim* should be an odd number. Otherwise the middle point *midpoint* is not unique. Matrix\n",
    "*adjacency* can be alternatively generated as *adjacency = spdiagm((ones(dim-1), ones(dim-1)), (-1, 1))*."
   ]
  },
  {
   "cell_type": "code",
   "execution_count": null,
   "metadata": {},
   "outputs": [],
   "source": [
    "dim = 151 #odd for unique middle point\n",
    "midpoint = ceil(Int, dim/2)\n",
    "w = 0.5\n",
    "timepoints = collect(0:2.5:50)\n",
    "adjacency = adjacency_matrix(PathGraph(dim));"
   ]
  },
  {
   "cell_type": "markdown",
   "metadata": {},
   "source": [
    "Preparation of the global and the local interaction operators."
   ]
  },
  {
   "cell_type": "code",
   "execution_count": null,
   "metadata": {},
   "outputs": [],
   "source": [
    "op_global = evolve_generator(adjacency, [adjacency], w)\n",
    "lind_local = local_lind(adjacency)\n",
    "op_local = evolve_generator(adjacency, lind_local, w);"
   ]
  },
  {
   "cell_type": "markdown",
   "metadata": {
    "collapsed": true
   },
   "source": [
    "Calculating resulting states. Note that comparing to global operators, density states usually are small matrices. Hence we can store those. Furthermore, note that here we use variant of *evolve* function, whcih enables us to compute the same evolutions for different time points."
   ]
  },
  {
   "cell_type": "code",
   "execution_count": null,
   "metadata": {},
   "outputs": [],
   "source": [
    "global_states = evolve(op_global, proj(midpoint, dim), timepoints)\n",
    "local_states = evolve(op_local, proj(midpoint, dim), timepoints);"
   ]
  },
  {
   "cell_type": "markdown",
   "metadata": {},
   "source": [
    "Calculation of the second moment."
   ]
  },
  {
   "cell_type": "code",
   "execution_count": null,
   "metadata": {},
   "outputs": [],
   "source": [
    "secmoment_global = Float64[]\n",
    "secmoment_local = Float64[]\n",
    "positions = (collect(1:dim) .- midpoint)\n",
    "\n",
    "for (rho_global, rho_local) = zip(global_states, local_states)\n",
    "  push!(secmoment_global, sum(positions.^2 .* diag(rho_global)))\n",
    "  push!(secmoment_local, sum(positions.^2 .* diag(rho_local)))\n",
    "end"
   ]
  },
  {
   "cell_type": "markdown",
   "metadata": {
    "collapsed": true
   },
   "source": [
    "Plots of the results. Note that second moment for global interaction case grows ballistically."
   ]
  },
  {
   "cell_type": "code",
   "execution_count": null,
   "metadata": {},
   "outputs": [],
   "source": [
    "plot(timepoints, secmoment_local, \"k\")\n",
    "plot(timepoints, secmoment_global, \"b\")\n",
    "xlabel(\"t\")\n",
    "ylabel(L\"\\mu_2\")\n",
    "show()"
   ]
  }
 ],
 "metadata": {
  "@webio": {
   "lastCommId": null,
   "lastKernelId": null
  },
  "kernelspec": {
   "display_name": "Julia 1.0.1",
   "language": "julia",
   "name": "julia-1.0"
  },
  "language_info": {
   "file_extension": ".jl",
   "mimetype": "application/julia",
   "name": "julia",
   "version": "1.0.1"
  }
 },
 "nbformat": 4,
 "nbformat_minor": 2
}
