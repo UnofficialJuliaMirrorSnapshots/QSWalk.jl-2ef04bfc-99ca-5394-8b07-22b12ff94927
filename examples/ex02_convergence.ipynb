{
 "cells": [
  {
   "cell_type": "markdown",
   "metadata": {},
   "source": [
    "# Convergence on local interaction model\n"
   ]
  },
  {
   "cell_type": "markdown",
   "metadata": {},
   "source": [
    "## Loading modules"
   ]
  },
  {
   "cell_type": "code",
   "execution_count": null,
   "metadata": {},
   "outputs": [],
   "source": [
    "using QSWalk\n",
    "using LightGraphs # for graph functions \n",
    "using GraphPlot # for ploting graphs \n",
    "using LinearAlgebra # for linear algebra utilities"
   ]
  },
  {
   "cell_type": "markdown",
   "metadata": {},
   "source": [
    "## Numerical proof of unique stationary state"
   ]
  },
  {
   "cell_type": "markdown",
   "metadata": {},
   "source": [
    "Basic parameters. We use Erdős–Rényi model to generate a directed graph. Strongly connected graphs have unique stationary state. Note the Hamiltonian is chosen to be the adjacency matrix of the underlying graph."
   ]
  },
  {
   "cell_type": "code",
   "execution_count": null,
   "metadata": {},
   "outputs": [],
   "source": [
    "# number of nodes\n",
    "dim = 10\n",
    "# smaller vale of 'prob' can be used to geneate graphs which are not strongly connected\n",
    "prob = 0.5\n",
    "digraph = erdos_renyi(dim, prob, is_directed=true)\n",
    "graph = Graph(digraph)\n",
    "\n",
    "adj_digraph = Matrix(adjacency_matrix(digraph, dir=:in))\n",
    "adj_graph = Matrix(adjacency_matrix(graph))\n",
    "time = 100.\n",
    "\n",
    "println(\"The graph is strongly connected: $(is_strongly_connected(digraph))\")\n",
    "gplot(digraph)"
   ]
  },
  {
   "cell_type": "markdown",
   "metadata": {},
   "source": [
    "Now we can calcuate the lindbladian and the subgroup generator."
   ]
  },
  {
   "cell_type": "code",
   "execution_count": null,
   "metadata": {},
   "outputs": [],
   "source": [
    "lind = local_lind(adj_digraph)\n",
    "evo_gen = evolve_generator(adj_graph, lind);"
   ]
  },
  {
   "cell_type": "markdown",
   "metadata": {},
   "source": [
    "The sufficient and necessary condition for the convergence of quantum stochastic evolution is that the null-space is  one-dimensional. Note for large matrices *eigs* may be a better option."
   ]
  },
  {
   "cell_type": "code",
   "execution_count": null,
   "metadata": {},
   "outputs": [],
   "source": [
    "null_dim = count(x->abs(x)<1e-5, eigvals(evo_gen))\n",
    "println(\"Dimensionality of null-space of the evolution operator: $null_dim\")"
   ]
  },
  {
   "cell_type": "markdown",
   "metadata": {},
   "source": [
    "This allows efficient stationary state generation. Note that the trace may differ from one, as the eigenstate is normalized according to different norm."
   ]
  },
  {
   "cell_type": "code",
   "execution_count": null,
   "metadata": {},
   "outputs": [],
   "source": [
    "eigendecomposition = eigen(evo_gen)\n",
    "zeroindex = findfirst(x -> abs(x)<=1.e-5, eigendecomposition.values)\n",
    "stationary_state = unres(vec(eigendecomposition.vectors[:, zeroindex]))\n",
    "\n",
    "println(\"Trace of stationary state: $(sum(diag(stationary_state)))\")\n",
    "stationary_state /= sum(diag(stationary_state))\n",
    "println(\"Trace of stationary state after the normalization: $(sum(diag(stationary_state)))\")"
   ]
  },
  {
   "cell_type": "markdown",
   "metadata": {},
   "source": [
    "## Convergence"
   ]
  },
  {
   "cell_type": "markdown",
   "metadata": {},
   "source": [
    "Since the stationary state is unique, all of states converge to it. We can show check this by taking three different states. Note, that for larger density states larger times of evolution might be required to achieve the convergence."
   ]
  },
  {
   "cell_type": "code",
   "execution_count": null,
   "metadata": {},
   "outputs": [],
   "source": [
    "rhoinit1 = proj(1, dim)\n",
    "rhoinit2 = proj(3, dim)\n",
    "rhoinit3 = Diagonal(I,dim)/dim"
   ]
  },
  {
   "cell_type": "markdown",
   "metadata": {},
   "source": [
    "Since we apply the same evolution for all of the initial states, it is more efficient to calulate exponent once."
   ]
  },
  {
   "cell_type": "code",
   "execution_count": null,
   "metadata": {},
   "outputs": [],
   "source": [
    "U = evolve_operator(evo_gen, time)\n",
    "rho1 = evolve(U, rhoinit1)\n",
    "rho2 = evolve(U, rhoinit2)\n",
    "rho3 = evolve(U, rhoinit3);"
   ]
  },
  {
   "cell_type": "markdown",
   "metadata": {},
   "source": [
    "In order to show those states are essentialy the same we can calulate the norm of the difference."
   ]
  },
  {
   "cell_type": "code",
   "execution_count": null,
   "metadata": {},
   "outputs": [],
   "source": [
    "println(norm(rho1-rho2))\n",
    "println(norm(rho2-rho3))\n",
    "println(norm(stationary_state-rho3))"
   ]
  }
 ],
 "metadata": {
  "@webio": {
   "lastCommId": null,
   "lastKernelId": null
  },
  "kernelspec": {
   "display_name": "Julia 1.0.1",
   "language": "julia",
   "name": "julia-1.0"
  },
  "language_info": {
   "file_extension": ".jl",
   "mimetype": "application/julia",
   "name": "julia",
   "version": "1.0.1"
  }
 },
 "nbformat": 4,
 "nbformat_minor": 2
}
